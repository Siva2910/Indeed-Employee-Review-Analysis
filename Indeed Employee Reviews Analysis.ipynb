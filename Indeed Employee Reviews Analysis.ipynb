{
 "cells": [
  {
   "cell_type": "markdown",
   "id": "b231102f",
   "metadata": {},
   "source": [
    "# Indeed Employee Reviews Analysis \n"
   ]
  },
  {
   "cell_type": "markdown",
   "id": "b217e645",
   "metadata": {},
   "source": [
    "# Importing Libraries"
   ]
  },
  {
   "cell_type": "code",
   "execution_count": 4,
   "id": "489571a0",
   "metadata": {},
   "outputs": [],
   "source": [
    "import numpy as np\n",
    "import pandas as pd\n",
    "import spacy\n",
    "import re\n",
    "import seaborn as sns\n",
    "import matplotlib.pyplot as plt\n",
    "\n",
    "import gensim\n",
    "import gensim.corpora as corpora\n",
    "from gensim.models import CoherenceModel\n",
    "\n",
    "import pyLDAvis \n",
    "import pyLDAvis.gensim_models\n",
    "\n",
    "import warnings\n",
    "warnings.filterwarnings(\"ignore\")"
   ]
  },
  {
   "cell_type": "code",
   "execution_count": 3,
   "id": "3006441b",
   "metadata": {},
   "outputs": [],
   "source": [
    "nlp=spacy.load(\"en_core_web_sm\")"
   ]
  },
  {
   "cell_type": "code",
   "execution_count": 41,
   "id": "50f369b4",
   "metadata": {},
   "outputs": [],
   "source": [
    "data=pd.read_csv(\"employee_reviews.csv\",encoding='latin-1')\n",
    "data=pd.DataFrame({\"rating\":data[\"overall-ratings\"].values,\n",
    "                \"employee_type\":data[\"job-title\"].values,\n",
    "                \"review_text\":data[\"summary\"].values})"
   ]
  },
  {
   "cell_type": "code",
   "execution_count": 66,
   "id": "35c834b8",
   "metadata": {
    "collapsed": true
   },
   "outputs": [
    {
     "ename": "AttributeError",
     "evalue": "'numpy.int64' object has no attribute 'split'",
     "output_type": "error",
     "traceback": [
      "\u001b[1;31m---------------------------------------------------------------------------\u001b[0m",
      "\u001b[1;31mAttributeError\u001b[0m                            Traceback (most recent call last)",
      "\u001b[1;32m~\\AppData\\Local\\Temp/ipykernel_10308/225984654.py\u001b[0m in \u001b[0;36m<module>\u001b[1;34m\u001b[0m\n\u001b[0;32m      3\u001b[0m \u001b[0md1\u001b[0m\u001b[1;33m=\u001b[0m\u001b[0mdata\u001b[0m\u001b[1;33m[\u001b[0m\u001b[1;34m\"employee_type\"\u001b[0m\u001b[1;33m]\u001b[0m\u001b[1;33m.\u001b[0m\u001b[0mvalues\u001b[0m\u001b[1;33m\u001b[0m\u001b[1;33m\u001b[0m\u001b[0m\n\u001b[0;32m      4\u001b[0m \u001b[1;32mfor\u001b[0m \u001b[0mi\u001b[0m \u001b[1;32min\u001b[0m \u001b[0mrange\u001b[0m\u001b[1;33m(\u001b[0m\u001b[0mlen\u001b[0m\u001b[1;33m(\u001b[0m\u001b[0mdata\u001b[0m\u001b[1;33m[\u001b[0m\u001b[1;34m\"employee_type\"\u001b[0m\u001b[1;33m]\u001b[0m\u001b[1;33m.\u001b[0m\u001b[0mvalues\u001b[0m\u001b[1;33m)\u001b[0m\u001b[1;33m)\u001b[0m\u001b[1;33m:\u001b[0m\u001b[1;33m\u001b[0m\u001b[1;33m\u001b[0m\u001b[0m\n\u001b[1;32m----> 5\u001b[1;33m     \u001b[0ml\u001b[0m\u001b[1;33m=\u001b[0m\u001b[0md1\u001b[0m\u001b[1;33m[\u001b[0m\u001b[0mi\u001b[0m\u001b[1;33m]\u001b[0m\u001b[1;33m.\u001b[0m\u001b[0msplit\u001b[0m\u001b[1;33m(\u001b[0m\u001b[1;34m\"-\"\u001b[0m\u001b[1;33m)\u001b[0m\u001b[1;33m\u001b[0m\u001b[1;33m\u001b[0m\u001b[0m\n\u001b[0m\u001b[0;32m      6\u001b[0m     \u001b[0md1\u001b[0m\u001b[1;33m[\u001b[0m\u001b[0mi\u001b[0m\u001b[1;33m]\u001b[0m\u001b[1;33m=\u001b[0m\u001b[0ml\u001b[0m\u001b[1;33m[\u001b[0m\u001b[1;36m0\u001b[0m\u001b[1;33m]\u001b[0m\u001b[1;33m.\u001b[0m\u001b[0mstrip\u001b[0m\u001b[1;33m(\u001b[0m\u001b[1;33m)\u001b[0m\u001b[1;33m\u001b[0m\u001b[1;33m\u001b[0m\u001b[0m\n\u001b[0;32m      7\u001b[0m     \u001b[0md1\u001b[0m\u001b[1;33m[\u001b[0m\u001b[0mi\u001b[0m\u001b[1;33m]\u001b[0m\u001b[1;33m\u001b[0m\u001b[1;33m\u001b[0m\u001b[0m\n",
      "\u001b[1;31mAttributeError\u001b[0m: 'numpy.int64' object has no attribute 'split'"
     ]
    }
   ],
   "source": [
    "# Cleaning Employee Type\n",
    "\n",
    "d1=data[\"employee_type\"].values\n",
    "for i in range(len(data[\"employee_type\"].values)):\n",
    "    l=d1[i].split(\"-\")\n",
    "    d1[i]=l[0].strip()\n",
    "    d1[i]\n",
    "data[\"employee_type\"]=d1\n",
    "\n",
    "data.head()"
   ]
  },
  {
   "cell_type": "code",
   "execution_count": 67,
   "id": "5d26a44a",
   "metadata": {},
   "outputs": [
    {
     "data": {
      "text/html": [
       "<div>\n",
       "<style scoped>\n",
       "    .dataframe tbody tr th:only-of-type {\n",
       "        vertical-align: middle;\n",
       "    }\n",
       "\n",
       "    .dataframe tbody tr th {\n",
       "        vertical-align: top;\n",
       "    }\n",
       "\n",
       "    .dataframe thead th {\n",
       "        text-align: right;\n",
       "    }\n",
       "</style>\n",
       "<table border=\"1\" class=\"dataframe\">\n",
       "  <thead>\n",
       "    <tr style=\"text-align: right;\">\n",
       "      <th></th>\n",
       "      <th>rating</th>\n",
       "      <th>employee_type</th>\n",
       "      <th>review_text</th>\n",
       "    </tr>\n",
       "  </thead>\n",
       "  <tbody>\n",
       "    <tr>\n",
       "      <th>0</th>\n",
       "      <td>5</td>\n",
       "      <td>1</td>\n",
       "      <td>Best Company to work for</td>\n",
       "    </tr>\n",
       "    <tr>\n",
       "      <th>1</th>\n",
       "      <td>4</td>\n",
       "      <td>0</td>\n",
       "      <td>Moving at the speed of light, burn out is inev...</td>\n",
       "    </tr>\n",
       "    <tr>\n",
       "      <th>2</th>\n",
       "      <td>5</td>\n",
       "      <td>1</td>\n",
       "      <td>Great balance between big-company security and...</td>\n",
       "    </tr>\n",
       "    <tr>\n",
       "      <th>3</th>\n",
       "      <td>5</td>\n",
       "      <td>1</td>\n",
       "      <td>The best place I've worked and also the most d...</td>\n",
       "    </tr>\n",
       "    <tr>\n",
       "      <th>4</th>\n",
       "      <td>5</td>\n",
       "      <td>0</td>\n",
       "      <td>Unique, one of a kind dream job</td>\n",
       "    </tr>\n",
       "    <tr>\n",
       "      <th>...</th>\n",
       "      <td>...</td>\n",
       "      <td>...</td>\n",
       "      <td>...</td>\n",
       "    </tr>\n",
       "    <tr>\n",
       "      <th>67524</th>\n",
       "      <td>3</td>\n",
       "      <td>0</td>\n",
       "      <td>Enriching experience for a beginner but bad fo...</td>\n",
       "    </tr>\n",
       "    <tr>\n",
       "      <th>67525</th>\n",
       "      <td>3</td>\n",
       "      <td>1</td>\n",
       "      <td>A complex and interesting experience</td>\n",
       "    </tr>\n",
       "    <tr>\n",
       "      <th>67526</th>\n",
       "      <td>4</td>\n",
       "      <td>1</td>\n",
       "      <td>Good Place to Work</td>\n",
       "    </tr>\n",
       "    <tr>\n",
       "      <th>67527</th>\n",
       "      <td>3</td>\n",
       "      <td>1</td>\n",
       "      <td>It's a competitive work place, with overload w...</td>\n",
       "    </tr>\n",
       "    <tr>\n",
       "      <th>67528</th>\n",
       "      <td>2</td>\n",
       "      <td>0</td>\n",
       "      <td>Used to be great</td>\n",
       "    </tr>\n",
       "  </tbody>\n",
       "</table>\n",
       "<p>67529 rows × 3 columns</p>\n",
       "</div>"
      ],
      "text/plain": [
       "       rating  employee_type  \\\n",
       "0           5              1   \n",
       "1           4              0   \n",
       "2           5              1   \n",
       "3           5              1   \n",
       "4           5              0   \n",
       "...       ...            ...   \n",
       "67524       3              0   \n",
       "67525       3              1   \n",
       "67526       4              1   \n",
       "67527       3              1   \n",
       "67528       2              0   \n",
       "\n",
       "                                             review_text  \n",
       "0                               Best Company to work for  \n",
       "1      Moving at the speed of light, burn out is inev...  \n",
       "2      Great balance between big-company security and...  \n",
       "3      The best place I've worked and also the most d...  \n",
       "4                        Unique, one of a kind dream job  \n",
       "...                                                  ...  \n",
       "67524  Enriching experience for a beginner but bad fo...  \n",
       "67525               A complex and interesting experience  \n",
       "67526                                 Good Place to Work  \n",
       "67527  It's a competitive work place, with overload w...  \n",
       "67528                                   Used to be great  \n",
       "\n",
       "[67529 rows x 3 columns]"
      ]
     },
     "execution_count": 67,
     "metadata": {},
     "output_type": "execute_result"
    }
   ],
   "source": [
    "d2=data['review_text'].values\n",
    "for i in range(len(d2)):\n",
    "    d2[i]=str(d2[i])\n",
    "data['review_text']=d2\n",
    "data\n",
    "    "
   ]
  },
  {
   "cell_type": "code",
   "execution_count": 16,
   "id": "314dfe23",
   "metadata": {},
   "outputs": [],
   "source": [
    "# General EDA ( Exploratory Data Analysis )"
   ]
  },
  {
   "cell_type": "code",
   "execution_count": 30,
   "id": "f5202b08",
   "metadata": {},
   "outputs": [
    {
     "name": "stdout",
     "output_type": "stream",
     "text": [
      "<class 'pandas.core.frame.DataFrame'>\n",
      "RangeIndex: 67529 entries, 0 to 67528\n",
      "Data columns (total 3 columns):\n",
      " #   Column         Non-Null Count  Dtype \n",
      "---  ------         --------------  ----- \n",
      " 0   rating         67529 non-null  int64 \n",
      " 1   employee_type  67529 non-null  object\n",
      " 2   review_text    67409 non-null  object\n",
      "dtypes: int64(1), object(2)\n",
      "memory usage: 1.5+ MB\n"
     ]
    }
   ],
   "source": [
    "data.info()"
   ]
  },
  {
   "cell_type": "code",
   "execution_count": 31,
   "id": "f3e8edd5",
   "metadata": {},
   "outputs": [
    {
     "data": {
      "text/plain": [
       "[Text(0.5, 1.0, 'Ratings Count')]"
      ]
     },
     "execution_count": 31,
     "metadata": {},
     "output_type": "execute_result"
    },
    {
     "data": {
      "image/png": "[encoded data removed]",
      "text/plain": [
       "<Figure size 432x288 with 1 Axes>"
      ]
     },
     "metadata": {
      "needs_background": "light"
     },
     "output_type": "display_data"
    }
   ],
   "source": [
    "# Total number of reviews by ratings\n",
    "\n",
    "sns.countplot(data['rating']).set(title='Ratings Count')"
   ]
  },
  {
   "cell_type": "code",
   "execution_count": 32,
   "id": "3ab84d6d",
   "metadata": {},
   "outputs": [
    {
     "name": "stdout",
     "output_type": "stream",
     "text": [
      "   rating  percentage\n",
      "5   23190    0.343408\n",
      "4   22498    0.333161\n",
      "3   12653    0.187371\n",
      "2    5282    0.078218\n",
      "1    3906    0.057842\n"
     ]
    }
   ],
   "source": [
    "# Percentage of reviews by ratings\n",
    "\n",
    "rating_count=pd.DataFrame(data['rating'].value_counts())\n",
    "rating_count['percentage']=rating_count['rating']/rating_count['rating'].sum()\n",
    "print(rating_count)"
   ]
  },
  {
   "cell_type": "code",
   "execution_count": 43,
   "id": "2d79b771",
   "metadata": {},
   "outputs": [
    {
     "data": {
      "text/plain": [
       "[Text(0.5, 1.0, 'Count of Employee Type')]"
      ]
     },
     "execution_count": 43,
     "metadata": {},
     "output_type": "execute_result"
    },
    {
     "data": {
      "image/png": "[encoded data removed]",
      "text/plain": [
       "<Figure size 432x288 with 1 Axes>"
      ]
     },
     "metadata": {
      "needs_background": "light"
     },
     "output_type": "display_data"
    }
   ],
   "source": [
    "sns.countplot(data['employee_type']).set(title='Count of Employee Type')"
   ]
  },
  {
   "cell_type": "code",
   "execution_count": 54,
   "id": "863a7fd7",
   "metadata": {},
   "outputs": [
    {
     "data": {
      "text/plain": [
       "[Text(0.5, 1.0, 'Former Employee Review Count')]"
      ]
     },
     "execution_count": 54,
     "metadata": {},
     "output_type": "execute_result"
    },
    {
     "data": {
      "image/png": "[encoded data removed]",
      "text/plain": [
       "<Figure size 432x288 with 1 Axes>"
      ]
     },
     "metadata": {
      "needs_background": "light"
     },
     "output_type": "display_data"
    }
   ],
   "source": [
    "sns.countplot(data[data['employee_type']==\"Former Employee\"]['rating']).set(title='Former Employee Review Count')"
   ]
  },
  {
   "cell_type": "code",
   "execution_count": 53,
   "id": "065cac4f",
   "metadata": {},
   "outputs": [
    {
     "data": {
      "text/plain": [
       "[Text(0.5, 1.0, 'Current Employee')]"
      ]
     },
     "execution_count": 53,
     "metadata": {},
     "output_type": "execute_result"
    },
    {
     "data": {
      "image/png": "[encoded data removed]",
      "text/plain": [
       "<Figure size 432x288 with 1 Axes>"
      ]
     },
     "metadata": {
      "needs_background": "light"
     },
     "output_type": "display_data"
    }
   ],
   "source": [
    "sns.countplot(data[data['employee_type']==\"Current Employee\"]['rating']).set(title='Current Employee')"
   ]
  },
  {
   "cell_type": "code",
   "execution_count": 55,
   "id": "87fea97a",
   "metadata": {},
   "outputs": [],
   "source": [
    "#Rename 'Former Employee' to 0 and 'Current Employee to 1'\n",
    "\n",
    "data['employee_type'].replace({'Former Employee' : 0, 'Current Employee' : 1},inplace=True)"
   ]
  },
  {
   "cell_type": "code",
   "execution_count": 56,
   "id": "4400a1c5",
   "metadata": {},
   "outputs": [
    {
     "data": {
      "text/html": [
       "<div>\n",
       "<style scoped>\n",
       "    .dataframe tbody tr th:only-of-type {\n",
       "        vertical-align: middle;\n",
       "    }\n",
       "\n",
       "    .dataframe tbody tr th {\n",
       "        vertical-align: top;\n",
       "    }\n",
       "\n",
       "    .dataframe thead th {\n",
       "        text-align: right;\n",
       "    }\n",
       "</style>\n",
       "<table border=\"1\" class=\"dataframe\">\n",
       "  <thead>\n",
       "    <tr style=\"text-align: right;\">\n",
       "      <th></th>\n",
       "      <th>rating</th>\n",
       "      <th>employee_type</th>\n",
       "      <th>review_text</th>\n",
       "    </tr>\n",
       "  </thead>\n",
       "  <tbody>\n",
       "    <tr>\n",
       "      <th>0</th>\n",
       "      <td>5</td>\n",
       "      <td>1</td>\n",
       "      <td>Best Company to work for</td>\n",
       "    </tr>\n",
       "    <tr>\n",
       "      <th>1</th>\n",
       "      <td>4</td>\n",
       "      <td>0</td>\n",
       "      <td>Moving at the speed of light, burn out is inev...</td>\n",
       "    </tr>\n",
       "    <tr>\n",
       "      <th>2</th>\n",
       "      <td>5</td>\n",
       "      <td>1</td>\n",
       "      <td>Great balance between big-company security and...</td>\n",
       "    </tr>\n",
       "    <tr>\n",
       "      <th>3</th>\n",
       "      <td>5</td>\n",
       "      <td>1</td>\n",
       "      <td>The best place I've worked and also the most d...</td>\n",
       "    </tr>\n",
       "    <tr>\n",
       "      <th>4</th>\n",
       "      <td>5</td>\n",
       "      <td>0</td>\n",
       "      <td>Unique, one of a kind dream job</td>\n",
       "    </tr>\n",
       "  </tbody>\n",
       "</table>\n",
       "</div>"
      ],
      "text/plain": [
       "   rating  employee_type                                        review_text\n",
       "0       5              1                           Best Company to work for\n",
       "1       4              0  Moving at the speed of light, burn out is inev...\n",
       "2       5              1  Great balance between big-company security and...\n",
       "3       5              1  The best place I've worked and also the most d...\n",
       "4       5              0                    Unique, one of a kind dream job"
      ]
     },
     "execution_count": 56,
     "metadata": {},
     "output_type": "execute_result"
    }
   ],
   "source": [
    "data.head()"
   ]
  },
  {
   "cell_type": "code",
   "execution_count": 58,
   "id": "6ede81ac",
   "metadata": {},
   "outputs": [
    {
     "name": "stdout",
     "output_type": "stream",
     "text": [
      "Best Company to work for\n",
      "Moving at the speed of light, burn out is inevitable\n",
      "Great balance between big-company security and fun, fast-moving projects\n"
     ]
    }
   ],
   "source": [
    "# First three reviews\n",
    "\n",
    "for text in data['review_text'][0:3]:\n",
    "    print(text)"
   ]
  },
  {
   "cell_type": "markdown",
   "id": "3019a550",
   "metadata": {},
   "source": [
    "# Cleaning Text Data Part 1"
   ]
  },
  {
   "cell_type": "code",
   "execution_count": 62,
   "id": "11a5915d",
   "metadata": {},
   "outputs": [],
   "source": [
    "#Text cleaning Round 1\n",
    "def clean_round_1(text):\n",
    "    text = text.lower()\n",
    "    text = re.sub(r\"i'm\",\"i am\",text)\n",
    "    text = re.sub(r\"ihe's\",\"he is\",text)\n",
    "    text = re.sub(r\"she's\",\"she is\",text)\n",
    "    text = re.sub(r\"that's\",\"that is\",text)\n",
    "    text = re.sub(r\"what's\",\"what is\",text)\n",
    "    text = re.sub(r\"where's\",\"where is\",text)\n",
    "    text = re.sub(r\"don't\",\"do not\",text)\n",
    "    text = re.sub(r\"\\'ll\",\"will\",text)\n",
    "    text = re.sub(r\"\\'ve\",\"have\",text)\n",
    "    text = re.sub(r\"\\'re\",\"are\",text)\n",
    "    text = re.sub(r\"\\'d\",\"would\",text)\n",
    "    text = re.sub(r\"won't\",\"will not\",text)\n",
    "    text = re.sub(r\"can't\",\"cannot\",text)\n",
    "    text = re.sub(\"[^A-Za-z]\", \" \",text)\n",
    "    return text"
   ]
  },
  {
   "cell_type": "code",
   "execution_count": 143,
   "id": "0deef270",
   "metadata": {},
   "outputs": [
    {
     "data": {
      "text/plain": [
       "0                                 best company to work for\n",
       "1        moving at the speed of light  burn out is inev...\n",
       "2        great balance between big company security and...\n",
       "3        the best place ihave worked and also the most ...\n",
       "4                          unique  one of a kind dream job\n",
       "                               ...                        \n",
       "67524    enriching experience for a beginner but bad fo...\n",
       "67525                 a complex and interesting experience\n",
       "67526                                   good place to work\n",
       "67527    it s a competitive work place  with overload w...\n",
       "67528                                     used to be great\n",
       "Name: clean_1, Length: 67529, dtype: object"
      ]
     },
     "execution_count": 143,
     "metadata": {},
     "output_type": "execute_result"
    }
   ],
   "source": [
    "data['clean_1']=data['review_text'].apply(clean_round_1)\n",
    "data['clean_1']"
   ]
  },
  {
   "cell_type": "markdown",
   "id": "17affd4d",
   "metadata": {},
   "source": [
    "# Cleaning Text Data Part-2"
   ]
  },
  {
   "cell_type": "code",
   "execution_count": 144,
   "id": "36c07087",
   "metadata": {},
   "outputs": [],
   "source": [
    "def clean_round_2(text):\n",
    "    text=\" \".join([word for word in text])\n",
    "    doc=nlp(text)\n",
    "    text = [word.lemma_ for word in doc]\n",
    "    text = [word for word in text if word not in nlp.Defaults.stop_words]\n",
    "    text = \"\".join([word for word in text])\n",
    "    return text"
   ]
  },
  {
   "cell_type": "code",
   "execution_count": 151,
   "id": "5be9822e",
   "metadata": {},
   "outputs": [
    {
     "data": {
      "text/plain": [
       "0                              best  compny  to  work  for\n",
       "1        MovIng  t  the  speed  of  lIght,  burn  out  ...\n",
       "2        gret  blnce  between  bIg-compny  securIty  nd...\n",
       "3        the  best  plce  I've  worked  nd  lso  the  m...\n",
       "4                      unIque,  one  of    kInd  drem  job\n",
       "                               ...                        \n",
       "67524    enrIchIng  experIence  for    begInner  but  b...\n",
       "67525                 complex  nd  InterestIng  experIence\n",
       "67526                                 good  plce  to  work\n",
       "67527    It's    competItIve  work  plce,  wIth  overlo...\n",
       "67528                                   used  to  be  gret\n",
       "Name: clean_2, Length: 67529, dtype: object"
      ]
     },
     "execution_count": 151,
     "metadata": {},
     "output_type": "execute_result"
    }
   ],
   "source": [
    "data['clean_2'] = data['review_text'].apply(clean_round_2)\n",
    "data['clean_2']"
   ]
  },
  {
   "cell_type": "markdown",
   "id": "8dd5eb35",
   "metadata": {},
   "source": [
    "# LDA Topic Modeling"
   ]
  },
  {
   "cell_type": "code",
   "execution_count": 146,
   "id": "01f1e2ef",
   "metadata": {},
   "outputs": [],
   "source": [
    "#LDA Topic Modeling "
   ]
  },
  {
   "cell_type": "code",
   "execution_count": 159,
   "id": "f462ed99",
   "metadata": {},
   "outputs": [
    {
     "data": {
      "text/plain": [
       "0                        [best, compny, to, work, for]\n",
       "1    [MovIng, t, the, speed, of, lIght,, burn, out,...\n",
       "2    [gret, blnce, between, bIg-compny, securIty, n...\n",
       "3    [the, best, plce, I've, worked, nd, lso, the, ...\n",
       "4                  [unIque,, one, of, kInd, drem, job]\n",
       "Name: clean_2, dtype: object"
      ]
     },
     "execution_count": 159,
     "metadata": {},
     "output_type": "execute_result"
    }
   ],
   "source": [
    "text_data = data['clean_2']\n",
    "text_data.head()"
   ]
  },
  {
   "cell_type": "code",
   "execution_count": 161,
   "id": "0cef0776",
   "metadata": {},
   "outputs": [],
   "source": [
    "from gensim.corpora import Dictionary\n",
    "\n",
    "id2word =Dictionary(text_data)\n",
    "texts = text_data"
   ]
  },
  {
   "cell_type": "code",
   "execution_count": 162,
   "id": "9da6d662",
   "metadata": {},
   "outputs": [],
   "source": [
    "corpus = [id2word.doc2bow(word) for word in texts]"
   ]
  },
  {
   "cell_type": "code",
   "execution_count": 163,
   "id": "d3ce3ae8",
   "metadata": {},
   "outputs": [
    {
     "name": "stdout",
     "output_type": "stream",
     "text": [
      "[(0, 1), (1, 1), (2, 1), (3, 1), (4, 1)]\n"
     ]
    }
   ],
   "source": [
    "print(corpus[:1][0][:30])"
   ]
  },
  {
   "cell_type": "code",
   "execution_count": 166,
   "id": "7a94858b",
   "metadata": {},
   "outputs": [],
   "source": [
    "lda_model = gensim.models.LdaModel(corpus=corpus,\n",
    "                                           id2word=id2word,\n",
    "                                           num_topics=10,\n",
    "                                           random_state=100,\n",
    "                                           update_every=1,\n",
    "                                           chunksize=100,\n",
    "                                           passes=10,\n",
    "                                           alpha=\"auto\")"
   ]
  },
  {
   "cell_type": "code",
   "execution_count": 169,
   "id": "0294b825",
   "metadata": {},
   "outputs": [
    {
     "data": {
      "text/html": [
       "\n",
       "<link rel=\"stylesheet\" type=\"text/css\" href=\"https://cdn.jsdelivr.net/gh/bmabey/pyLDAvis@3.3.1/pyLDAvis/js/ldavis.v1.0.0.css\">\n",
       "\n",
       "\n",
       "<div id=\"ldavis_el1030822465322307209419101196\"></div>\n",
       "<script type=\"text/javascript\">\n",
       "\n",
       "var ldavis_el1030822465322307209419101196_data = {\"mdsDat\": {\"x\": [0.41063280734067953, 0.11795425233023019, -0.34436748397828665, -0.24400967016166708, 0.19217104288182785, -0.1641195565318201, -0.09030203143632926, -0.4499415947370518, 0.15849012178136979, 0.41349211251104756], \"y\": [0.2520771886955851, 0.42023372684840415, -0.2688205356198886, 0.4005266465948216, -0.42294962573491485, 0.14883814321408936, -0.3775642358173791, 0.018721290617769927, -0.04267417695674241, -0.12838842184174523], \"topics\": [1, 2, 3, 4, 5, 6, 7, 8, 9, 10], \"cluster\": [1, 1, 1, 1, 1, 1, 1, 1, 1, 1], \"Freq\": [26.86494916736934, 11.841333366664056, 10.816773128095738, 9.390739536823515, 8.653118116551687, 7.727309970561523, 7.353769586049575, 7.163422659516848, 5.625598471897865, 4.562985996469856]}, \"tinfo\": {\"Term\": [\"compny\", \"good\", \"to\", \"gret\", \"nd\", \"work\", \"for\", \"the\", \"plce\", \"of\", \"Is\", \"but\", \"In\", \"experIence\", \"t\", \"wIth\", \"It\", \"you\", \"not\", \"very\", \"to\", \"gret\", \"work\", \"plce\", \"MIcrosoft\", \"people\", \"envIronment\", \"creer\", \"your\", \"lern\", \"mzIng\", \"opportunItIes\", \"Mnger\", \"one\", \"work,\", \"NIce\", \"stIll\", \"chllengIng\", \"mny\", \"technIcl\", \"the\", \"of\", \"but\", \"best\", \"lot\", \"my\", \"polItIcs\", \"more\", \"been\", \"get\", \"better\", \"rIght\", \"sde\", \"polItIcl\", \"worked\", \"thn\", \"excItIng\", \"don't\", \"decent\", \"compnIes\", \"good\", \"wIth\", \"revIew\", \"culture\", \"lots\", \"job\", \"people,\", \"tht\", \"overll\", \"smrt\", \"some\", \"growth\", \"development\", \"benefIts\", \"opportunIty\", \"from\", \"rewrdIng\", \"new\", \"employer\", \"stble\", \"MS\", \"nd\", \"I\", \"re\", \"wesome\", \"lIfe\", \"hs\", \"Not\", \"Its\", \"yers\", \"blnce\", \"ok\", \"up\", \"wy\", \"specIlIst\", \"dIrector\", \"there\", \"InnovtIon\", \"world\", \"strted\", \"ledershIp\", \"GTsc\", \"compny\", \"for\", \"on\", \"excellent\", \"progrm\", \"technology\", \"tem\", \"depends\", \"employees\", \"love\", \"fntstIc\", \"for.\", \"well\", \"envIronment,\", \"for,\", \"chnce\", \"creer.\", \"Most\", \"defInItely\", \"full\", \"In\", \"you\", \"workIng\", \"lernIng\", \"n\", \"s\", \"f\", \"If\", \"servIces\", \"thIs\", \"wht\", \"where\", \"wnt\", \"once\", \"over\", \"mke\", \"or\", \"do\", \"would\", \"just\", \"experIence\", \"It\", \"very\", \"mnger\", \"ws\", \"mngement\", \"senIor\", \"hve\", \"ccount\", \"led\", \"product\", \"group\", \"MrketIng\", \"compny.\", \"hrd\", \"poor\", \"reserch\", \"II\", \"executIve\", \"dvIsor\", \"Is\", \"not\", \"-\", \"too\", \"sles\", \"bd\", \"bIg\", \"so\", \"much\", \"busIness\", \"fun\", \"&\", \"good,\", \"fr\", \"now\", \"prtner\", \"employee\", \"InternshIp\", \"could\", \"hIgh\", \"t\", \"engIneer\", \"Softwre\", \"It's\", \"softwre\", \"Intern\", \"out\", \"developer\", \"My\", \"thIngs\", \"engIneerIng\", \"mIcrosoft\", \"test\", \"solutIon\", \"college\", \"rchItect\", \"solutIons\", \"cloud\", \"@\", \"customer\", \"MSFT\", \"be\", \"compny,\", \"cn\", \"lIke\", \"by\", \"used\", \"long\", \"no\", \"competItIve\", \"gettIng\", \"they\", \"py\", \"mngers\", \"needs\", \"You\", \"hours\", \"drem\", \"terrIble\", \"process\", \"chngIng\"], \"Freq\": [8501.0, 9061.0, 14354.0, 12652.0, 6888.0, 10318.0, 5301.0, 5841.0, 8564.0, 4528.0, 3532.0, 4050.0, 3314.0, 3057.0, 2713.0, 2805.0, 2115.0, 2145.0, 2052.0, 2068.0, 14353.823302740468, 12651.866813716248, 10318.165467640898, 8563.562109545775, 3804.960312653219, 1786.3998225093994, 1050.4651024165694, 975.6175090981924, 943.9064875599399, 817.3014510986355, 795.0992625345194, 755.6987482332145, 710.2197823377047, 679.4813599126576, 651.0597792776035, 587.5168568623526, 582.2893928842863, 528.7129023936033, 501.33105978976187, 475.4680064063609, 5840.5597493033665, 4528.1575960631235, 4049.895810676592, 1905.7892739280503, 623.9105040991271, 583.6234331283864, 513.9451609146013, 503.4835691972938, 483.10922771279274, 424.5033505084777, 395.6284615109718, 372.10151403443024, 317.3081633865046, 313.01530734310995, 299.3958493739942, 287.4457655001008, 245.75155890574507, 244.53734250232068, 223.08716494497025, 222.74374743381966, 9060.469626172411, 2804.87597027002, 1116.0850985496415, 747.5713096939312, 695.0380154205662, 690.1380893576891, 643.6539999018778, 641.5219412999892, 632.6628315848244, 606.2027709687022, 561.2501295020523, 540.1518171662896, 484.0893828068715, 453.88554355206713, 445.78245915220623, 401.58631466915335, 362.415058867381, 336.4674953309811, 269.3291692373614, 262.87347478895975, 584.0111904880686, 6887.616897408085, 1464.7127979550098, 1126.8806329221477, 1042.4756968427155, 864.7986162484918, 842.8854488325389, 712.993099114577, 669.3857367692588, 651.3726136831434, 621.2236136200634, 508.6657155997962, 431.4314374489578, 282.6339256056093, 259.46673377751296, 251.29132586634105, 233.23730539434843, 230.86198112773366, 230.01009728147952, 221.91300351347707, 210.9403346947222, 256.618325544726, 8501.07684698946, 5300.825748082768, 1398.4559611486914, 1002.4122964393295, 551.8837792427379, 524.6205059842551, 495.9427486174234, 415.85455463927485, 358.9387609907108, 336.710560639954, 314.2560616979381, 249.40455941569235, 240.73356902118672, 233.39329735402225, 181.41139548502687, 164.43918980136598, 158.14249517259205, 143.7655895531189, 141.40577350133395, 140.3081097790071, 3313.9465657025958, 2144.58444865379, 1351.2467265033833, 829.6894737699807, 821.2187676946975, 808.9939173335757, 733.0922396574996, 397.8016496423581, 389.46694558541816, 379.1346671327004, 357.7887523298542, 294.67345456229924, 276.05676205261113, 262.49309838827827, 257.92873334497284, 250.95072207615777, 242.10467317446822, 236.28828087898805, 226.57197068804214, 226.28389828034352, 3056.307938439735, 2114.744732438802, 2067.623771632159, 1618.6895064503024, 933.7983491569851, 860.0777432989615, 668.135789090791, 629.5219801099922, 459.1757634395655, 454.57873731052, 409.6162399616845, 375.2927829425089, 332.6928711528537, 331.75577334078133, 326.4249498018548, 324.6132634397797, 216.02128754054698, 202.58983281438455, 192.83478047169777, 184.3497744408472, 3531.360164960145, 2051.9077954430973, 1417.4767457641763, 958.4438269342512, 826.906220069376, 786.766251375189, 703.3743979364442, 561.6250600272318, 556.8893250972776, 484.93378266633033, 408.45963661228086, 363.2641123561624, 279.2989166930307, 275.08869340827016, 266.55663564640304, 246.33706848388957, 233.31578874042472, 229.95388470369906, 226.7004487069725, 217.99255011784257, 2713.0762228687504, 1762.5133299729046, 1148.9840746739048, 920.3030205869436, 753.7402459076202, 614.829498321099, 452.5394588476858, 447.0579796569827, 348.4886792727213, 280.7643666899503, 234.91399671843868, 1836.799264202196, 223.49122807767267, 203.62508220360894, 178.0686253045338, 134.58182203682264, 123.50272672384857, 116.18879073230292, 109.17861222678859, 101.41508449270032, 150.47430638472443, 1739.312176685951, 961.6296783329576, 810.62555133335, 530.4707446523973, 473.71413889439543, 442.60728266388435, 414.1978160729102, 366.9029659272362, 279.29938392787545, 271.6833010225053, 234.99259405368628, 206.29488178041908, 204.01763021311436, 178.81670777761727, 165.69484507718246, 158.4431388376249, 153.2694279175882, 144.02722351630837, 142.40787944379272, 131.89669267036936], \"Total\": [8501.0, 9061.0, 14354.0, 12652.0, 6888.0, 10318.0, 5301.0, 5841.0, 8564.0, 4528.0, 3532.0, 4050.0, 3314.0, 3057.0, 2713.0, 2805.0, 2115.0, 2145.0, 2052.0, 2068.0, 14354.619594605218, 12652.66310387263, 10318.961751165589, 8564.358373044555, 3805.7566890670037, 1787.196187640926, 1051.261426969459, 976.4137990557242, 944.7027946078258, 818.0977366363329, 795.895539873273, 756.4950695859925, 711.0160340553233, 680.2777077636038, 651.8560669004346, 588.3131272109973, 583.0857341976155, 529.5092328126996, 502.12755020892183, 476.26430009938053, 5841.353823937068, 4528.951671267515, 4050.689918076994, 1906.5833240166307, 624.7045701549104, 584.4175443319014, 514.739207341605, 504.27765256582643, 483.90340067407396, 425.2974582575914, 396.4225143641679, 372.89560167872145, 318.10219616375326, 313.8094405625667, 300.189936069543, 288.23983226062415, 246.54566379787306, 245.33140274788224, 223.88120897003876, 223.53777548016728, 9061.26714003659, 2805.6735006558342, 1116.8825615830856, 748.3687921444669, 695.8355335181479, 690.9356372828611, 644.4514963614414, 642.3195160248546, 633.4603695822171, 607.000282419799, 562.0476730335173, 540.9493614801328, 484.8868822468887, 454.68301154037846, 446.58000473508906, 402.3838309747653, 363.21264222005425, 337.26503554388665, 270.1266295770735, 263.67102377190565, 590.3939443316087, 6888.408523708773, 1465.5044374846061, 1127.672288124143, 1043.2672838789579, 865.5902138854593, 843.6771087120308, 713.7847253907183, 670.1773576410246, 652.1642131985998, 622.0151943188614, 509.45732641435256, 432.2230929180176, 283.425515246303, 260.25829093231056, 252.0828705615727, 234.0288881151846, 231.65359959883133, 230.80173115266504, 222.7049736940532, 211.7318942544137, 258.4205380886846, 8501.873380854251, 5301.6222900724815, 1399.252543057242, 1003.2088309644457, 552.6802646977211, 525.4170633202234, 496.73931731885324, 416.65114224393, 359.73531713114284, 337.5070883167404, 315.05262963905625, 250.2010695203208, 241.5301970737567, 234.18996476678058, 182.20794440344, 165.23599492393825, 158.93912788131468, 144.56230650857142, 142.20269472442274, 141.10467519087112, 3314.7435881641445, 2145.381420972976, 1352.0437425828757, 830.4865507163665, 822.015797125389, 809.7908970288483, 733.8891839566672, 398.59863316679366, 390.2640052698909, 379.9317225341492, 358.58573347728446, 295.470579045907, 276.8537214938735, 263.29020645961725, 258.7258462805323, 251.74771388945973, 242.90165348489623, 237.08526888851932, 227.3691192127839, 227.08092333617162, 3057.1005502550256, 2115.5373411466244, 2068.4163756167827, 1619.4820134922466, 934.5909765994677, 860.870317210394, 668.9282854786563, 630.3146244987472, 459.9682508039647, 455.3712709852836, 410.40873399682675, 376.0854014654125, 333.4853595472755, 332.54839681469434, 327.2175572260677, 325.405841189531, 216.81383977587754, 203.38238183999857, 193.62727849057413, 185.14224934189158, 3532.1574777655565, 2052.705093327931, 1418.2740505021627, 959.2411035578976, 827.7034471337726, 787.5635315466383, 704.1716703510223, 562.4223563697497, 557.6865842594048, 485.73101336182646, 409.2569614017269, 364.0613979898448, 280.0962868941045, 275.8860241556217, 267.3539840758208, 247.13430416341092, 234.11304974048778, 230.75112245053572, 227.49774073212265, 218.78983381989346, 2713.8547708156034, 1763.2918194187919, 1149.7625572616764, 921.0816508166281, 754.518778403928, 615.6080116959567, 453.31809444187, 447.8364824907376, 349.2672603872574, 281.5430761215626, 235.69251173833118, 1843.1903495364857, 224.26973213335478, 204.4036128340783, 178.84721208109826, 135.36031736990756, 124.28126739096864, 116.96733800387356, 109.95714625103055, 102.19360086892992, 152.56314142136586, 1740.102558654136, 962.4200445977093, 811.4159473942354, 531.2611476934044, 474.5045302041979, 443.3976667047376, 414.98826735727914, 367.6933778217241, 280.08985477124537, 272.47371794606084, 235.78303377223025, 207.08524278583582, 204.80800445375826, 179.6070485377183, 166.4852448845322, 159.23365801986324, 154.06007325879656, 144.81759626973394, 143.19824718726485, 132.68705960632633], \"Category\": [\"Default\", \"Default\", \"Default\", \"Default\", \"Default\", \"Default\", \"Default\", \"Default\", \"Default\", \"Default\", \"Default\", \"Default\", \"Default\", \"Default\", \"Default\", \"Default\", \"Default\", \"Default\", \"Default\", \"Default\", \"Topic1\", \"Topic1\", \"Topic1\", \"Topic1\", \"Topic1\", \"Topic1\", \"Topic1\", \"Topic1\", \"Topic1\", \"Topic1\", \"Topic1\", \"Topic1\", \"Topic1\", \"Topic1\", \"Topic1\", \"Topic1\", \"Topic1\", \"Topic1\", \"Topic1\", \"Topic1\", \"Topic2\", \"Topic2\", \"Topic2\", \"Topic2\", \"Topic2\", \"Topic2\", \"Topic2\", \"Topic2\", \"Topic2\", \"Topic2\", \"Topic2\", \"Topic2\", \"Topic2\", \"Topic2\", \"Topic2\", \"Topic2\", \"Topic2\", \"Topic2\", \"Topic2\", \"Topic2\", \"Topic3\", \"Topic3\", \"Topic3\", \"Topic3\", \"Topic3\", \"Topic3\", \"Topic3\", \"Topic3\", \"Topic3\", \"Topic3\", \"Topic3\", \"Topic3\", \"Topic3\", \"Topic3\", \"Topic3\", \"Topic3\", \"Topic3\", \"Topic3\", \"Topic3\", \"Topic3\", \"Topic3\", \"Topic4\", \"Topic4\", \"Topic4\", \"Topic4\", \"Topic4\", \"Topic4\", \"Topic4\", \"Topic4\", \"Topic4\", \"Topic4\", \"Topic4\", \"Topic4\", \"Topic4\", \"Topic4\", \"Topic4\", \"Topic4\", \"Topic4\", \"Topic4\", \"Topic4\", \"Topic4\", \"Topic4\", \"Topic5\", \"Topic5\", \"Topic5\", \"Topic5\", \"Topic5\", \"Topic5\", \"Topic5\", \"Topic5\", \"Topic5\", \"Topic5\", \"Topic5\", \"Topic5\", \"Topic5\", \"Topic5\", \"Topic5\", \"Topic5\", \"Topic5\", \"Topic5\", \"Topic5\", \"Topic5\", \"Topic6\", \"Topic6\", \"Topic6\", \"Topic6\", \"Topic6\", \"Topic6\", \"Topic6\", \"Topic6\", \"Topic6\", \"Topic6\", \"Topic6\", \"Topic6\", \"Topic6\", \"Topic6\", \"Topic6\", \"Topic6\", \"Topic6\", \"Topic6\", \"Topic6\", \"Topic6\", \"Topic7\", \"Topic7\", \"Topic7\", \"Topic7\", \"Topic7\", \"Topic7\", \"Topic7\", \"Topic7\", \"Topic7\", \"Topic7\", \"Topic7\", \"Topic7\", \"Topic7\", \"Topic7\", \"Topic7\", \"Topic7\", \"Topic7\", \"Topic7\", \"Topic7\", \"Topic7\", \"Topic8\", \"Topic8\", \"Topic8\", \"Topic8\", \"Topic8\", \"Topic8\", \"Topic8\", \"Topic8\", \"Topic8\", \"Topic8\", \"Topic8\", \"Topic8\", \"Topic8\", \"Topic8\", \"Topic8\", \"Topic8\", \"Topic8\", \"Topic8\", \"Topic8\", \"Topic8\", \"Topic9\", \"Topic9\", \"Topic9\", \"Topic9\", \"Topic9\", \"Topic9\", \"Topic9\", \"Topic9\", \"Topic9\", \"Topic9\", \"Topic9\", \"Topic9\", \"Topic9\", \"Topic9\", \"Topic9\", \"Topic9\", \"Topic9\", \"Topic9\", \"Topic9\", \"Topic9\", \"Topic9\", \"Topic10\", \"Topic10\", \"Topic10\", \"Topic10\", \"Topic10\", \"Topic10\", \"Topic10\", \"Topic10\", \"Topic10\", \"Topic10\", \"Topic10\", \"Topic10\", \"Topic10\", \"Topic10\", \"Topic10\", \"Topic10\", \"Topic10\", \"Topic10\", \"Topic10\", \"Topic10\"], \"logprob\": [20.0, 19.0, 18.0, 17.0, 16.0, 15.0, 14.0, 13.0, 12.0, 11.0, 10.0, 9.0, 8.0, 7.0, 6.0, 5.0, 4.0, 3.0, 2.0, 1.0, -1.7005, -1.8268, -2.0307, -2.217, -3.0283, -3.7844, -4.3153, -4.3892, -4.4223, -4.5663, -4.5938, -4.6447, -4.7067, -4.751, -4.7937, -4.8964, -4.9053, -5.0019, -5.055, -5.108, -1.7805, -2.035, -2.1466, -2.9004, -4.0171, -4.0838, -4.211, -4.2315, -4.2728, -4.4022, -4.4726, -4.5339, -4.6932, -4.7068, -4.7513, -4.7921, -4.9488, -4.9537, -5.0455, -5.0471, -1.2509, -2.4235, -3.345, -3.7458, -3.8186, -3.8257, -3.8954, -3.8987, -3.9127, -3.9554, -4.0324, -4.0707, -4.1803, -4.2447, -4.2628, -4.3672, -4.4698, -4.5441, -4.7667, -4.7909, -3.9927, -1.3837, -2.9318, -3.194, -3.2719, -3.4587, -3.4844, -3.6517, -3.7149, -3.7421, -3.7895, -3.9894, -4.1541, -4.5771, -4.6626, -4.6946, -4.7692, -4.7794, -4.7831, -4.8189, -4.8696, -4.6736, -1.0915, -1.5638, -2.8963, -3.2292, -3.8261, -3.8767, -3.933, -4.1091, -4.2563, -4.3202, -4.3892, -4.6203, -4.6557, -4.6867, -4.9386, -5.0369, -5.0759, -5.1712, -5.1878, -5.1956, -1.9204, -2.3556, -2.8175, -3.3052, -3.3155, -3.3305, -3.429, -4.0403, -4.0615, -4.0884, -4.1463, -4.3404, -4.4056, -4.456, -4.4736, -4.501, -4.5369, -4.5612, -4.6032, -4.6045, -1.9517, -2.32, -2.3426, -2.5873, -3.1374, -3.2197, -3.4722, -3.5317, -3.8473, -3.8573, -3.9615, -4.049, -4.1695, -4.1723, -4.1885, -4.1941, -4.6013, -4.6655, -4.7149, -4.7599, -1.781, -2.324, -2.6938, -3.0852, -3.2328, -3.2826, -3.3946, -3.6196, -3.6281, -3.7665, -3.9381, -4.0554, -4.3182, -4.3334, -4.3649, -4.4438, -4.4981, -4.5126, -4.5269, -4.566, -1.803, -2.2343, -2.6622, -2.8841, -3.0838, -3.2875, -3.5939, -3.6061, -3.8552, -4.0713, -4.2496, -2.193, -4.2994, -4.3925, -4.5267, -4.8066, -4.8926, -4.9536, -5.0158, -5.0896, -4.695, -2.0382, -2.6308, -2.8017, -3.2257, -3.3389, -3.4068, -3.4731, -3.5944, -3.8672, -3.8948, -4.0399, -4.1702, -4.1813, -4.3131, -4.3893, -4.4341, -4.4673, -4.5295, -4.5408, -4.6175], \"loglift\": [20.0, 19.0, 18.0, 17.0, 16.0, 15.0, 14.0, 13.0, 12.0, 11.0, 10.0, 9.0, 8.0, 7.0, 6.0, 5.0, 4.0, 3.0, 2.0, 1.0, 1.3143, 1.3143, 1.3143, 1.3143, 1.3141, 1.3139, 1.3136, 1.3135, 1.3135, 1.3134, 1.3133, 1.3133, 1.3132, 1.3132, 1.3131, 1.313, 1.313, 1.3128, 1.3128, 1.3127, 2.1334, 2.1334, 2.1334, 2.1332, 2.1323, 2.1322, 2.132, 2.132, 2.1319, 2.1317, 2.1316, 2.1314, 2.1311, 2.131, 2.1309, 2.1308, 2.1303, 2.1303, 2.13, 2.13, 2.224, 2.2238, 2.2234, 2.223, 2.2229, 2.2229, 2.2228, 2.2228, 2.2228, 2.2228, 2.2227, 2.2226, 2.2224, 2.2223, 2.2223, 2.2221, 2.2219, 2.2217, 2.2211, 2.221, 2.2132, 2.3653, 2.3649, 2.3647, 2.3647, 2.3645, 2.3645, 2.3643, 2.3643, 2.3642, 2.3642, 2.3639, 2.3636, 2.3626, 2.3624, 2.3623, 2.3621, 2.362, 2.362, 2.3619, 2.3617, 2.3584, 2.4472, 2.4471, 2.4467, 2.4465, 2.4458, 2.4457, 2.4456, 2.4453, 2.445, 2.4449, 2.4447, 2.4441, 2.4439, 2.4438, 2.4429, 2.4424, 2.4422, 2.4417, 2.4416, 2.4416, 2.5602, 2.56, 2.5598, 2.5594, 2.5594, 2.5594, 2.5593, 2.5584, 2.5584, 2.5583, 2.5582, 2.5577, 2.5575, 2.5574, 2.5573, 2.5572, 2.5571, 2.557, 2.5569, 2.5569, 2.6097, 2.6096, 2.6096, 2.6095, 2.6091, 2.609, 2.6088, 2.6087, 2.6082, 2.6082, 2.608, 2.6078, 2.6076, 2.6076, 2.6075, 2.6075, 2.6063, 2.6061, 2.6059, 2.6057, 2.636, 2.6358, 2.6356, 2.6354, 2.6352, 2.6352, 2.635, 2.6348, 2.6348, 2.6345, 2.6342, 2.634, 2.6333, 2.6333, 2.6332, 2.633, 2.6328, 2.6327, 2.6327, 2.6325, 2.8776, 2.8774, 2.8772, 2.877, 2.8768, 2.8766, 2.8761, 2.8761, 2.8756, 2.8751, 2.8745, 2.8744, 2.8744, 2.874, 2.8735, 2.8721, 2.8716, 2.8712, 2.8707, 2.8702, 2.8641, 3.0867, 3.0864, 3.0862, 3.0857, 3.0855, 3.0854, 3.0853, 3.085, 3.0844, 3.0843, 3.0838, 3.0834, 3.0833, 3.0828, 3.0824, 3.0822, 3.082, 3.0817, 3.0817, 3.0812]}, \"token.table\": {\"Topic\": [8, 8, 9, 4, 8, 4, 7, 6, 6, 4, 9, 8, 8, 7, 9, 4, 1, 1, 3, 1, 3, 9, 1, 5, 7, 9, 1, 4, 9, 10, 8, 8, 10, 2, 3, 2, 2, 4, 8, 2, 10, 7, 1, 5, 10, 9, 10, 9, 10, 2, 5, 10, 7, 8, 1, 5, 3, 9, 4, 2, 5, 5, 9, 3, 6, 2, 10, 7, 8, 5, 3, 9, 9, 1, 5, 2, 5, 7, 7, 6, 5, 5, 5, 5, 8, 3, 5, 8, 2, 10, 3, 8, 1, 7, 3, 8, 10, 7, 4, 7, 3, 6, 4, 10, 7, 4, 1, 6, 10, 2, 3, 5, 1, 2, 9, 6, 7, 7, 10, 1, 2, 8, 2, 1, 6, 4, 10, 3, 10, 8, 8, 2, 4, 5, 6, 1, 1, 3, 6, 9, 6, 3, 1, 3, 1, 2, 2, 7, 10, 7, 5, 8, 10, 2, 9, 4, 7, 3, 3, 6, 2, 7, 6, 8, 3, 8, 9, 9, 9, 3, 4, 1, 3, 4, 9, 1, 5, 5, 10, 9, 9, 6, 2, 4, 10, 2, 3, 1, 8, 4, 10, 7, 3, 5, 4, 6, 6, 6, 1, 1, 6, 2, 4, 6, 7, 4, 4, 6, 1], \"Freq\": [0.9970845632200906, 0.9991016894783405, 0.9912952792641108, 0.9945029984876933, 0.0038696614727147596, 0.9996557925914766, 0.99811988709868, 0.9984981554953222, 0.999775672493402, 0.9971785476247155, 0.999012339533591, 0.9967448806204757, 0.9996723028990517, 0.9997460025232487, 0.9988256732552764, 0.9982432148332064, 0.9998011725055421, 0.01016270586378162, 0.9891700374080777, 0.006554663142639996, 0.006554663142639996, 0.9831994713959993, 0.9985710110508643, 0.9961102826722118, 0.9985445851418053, 0.9963716599550375, 0.999467754166082, 0.9989006133602975, 0.9993367697905448, 0.9970853580155482, 0.9983361012657067, 0.999284462111226, 0.9993663829475725, 0.998133097075128, 0.998497829206188, 0.9996940474568917, 0.9989341817155729, 0.9983678946621665, 0.9984950243206276, 0.9998296788717608, 0.9989367220498805, 0.9978949616581747, 0.9990382928546976, 0.992519820366578, 0.9948219546927576, 0.9917298450970857, 0.9994873807994886, 0.995262928221022, 0.9961089102204881, 0.9975942523405177, 0.9998972719522949, 0.9995635537725267, 0.9983509263014131, 0.9978121069223771, 0.9995762052358085, 0.9940912732199213, 0.9995072053400168, 0.9883201995156156, 0.9957043072416608, 0.9960639440259736, 0.9915423914662556, 0.9984372003868196, 0.9981321698355495, 0.9981709502167205, 0.9954224533071702, 0.9986491629519487, 0.9931190915571239, 0.9938304231154594, 0.9952456740804428, 0.9979559495659005, 0.9958292539360616, 0.9998345030495928, 0.9970617999985506, 0.9988000825131619, 0.99491880547501, 0.9977867637602403, 0.9987950355627516, 0.9967603816184161, 0.9996400019440205, 0.9987883947929668, 0.9966588768350793, 0.9998826227070822, 0.9933705173646797, 0.9951995827890606, 0.996788441319804, 0.9990461073601404, 0.9921712360743764, 0.9969286743530965, 0.9993005877373213, 0.9982614178364365, 0.9998601586271536, 0.9960860356048956, 0.9999475917546222, 0.997113949488113, 0.9982450085946397, 0.9963899884829949, 0.992252529803031, 0.9962790589955217, 0.9991974314521056, 0.9995008453135648, 0.998645840173275, 0.995239920111777, 0.9993181370630221, 0.9976261247432079, 0.9991846850933738, 0.9965432970928118, 0.9986581839954156, 0.9994141377534087, 0.997618565547473, 0.9988721546334524, 0.9987992370640754, 0.9984975476536821, 0.0016276126883772051, 0.0010850751255848034, 0.996641502849642, 0.997029907926838, 0.9989890263457867, 0.999702365640229, 0.9960548199475247, 0.997754454603312, 0.9974663708389108, 0.9987688707622104, 0.9992855376503478, 0.9988748022467677, 0.9987642608220654, 0.9999406940358768, 0.9966201296515887, 0.9962491352184, 0.9981142499061806, 0.9996565052962441, 0.9986759723179574, 0.9997898694142504, 0.999102326356613, 0.9991048484682362, 0.9950996792589961, 0.9981217850459863, 0.9993455746033303, 0.998701229949977, 0.9962879895136149, 0.999298297496239, 0.9971945350997314, 0.9992732464344679, 0.9993306903577805, 0.9992994098640618, 0.9999581552955931, 0.9974205984335092, 0.9985639187163871, 0.9987528152904465, 0.9916322496203611, 0.9990040806567486, 0.9987691532678606, 0.9954101711324508, 0.9947594392954492, 0.9975982508919666, 0.9973380871372893, 0.9994038266868637, 0.996246366114272, 0.9992097991199409, 0.9966613435792261, 0.9990233317863288, 0.9965350878521257, 0.9986122795241166, 0.9967611533402453, 0.9991501217782667, 0.9983520890372384, 0.9992490405742833, 0.9993124380482281, 0.9980254124255331, 0.9977368480634832, 0.9981359712284499, 0.995165222488002, 0.9981379510182846, 0.9974550719972698, 0.9968344950615172, 0.9996850344296992, 0.9973453813373861, 0.9992062242562358, 0.9985116593491257, 0.994354302993601, 0.9943383704912985, 0.9980710727145422, 0.9975476579635557, 0.9999394277512144, 0.9956035849955489, 0.9966790071376099, 0.995698608860197, 0.9995025590584076, 0.9999568365708938, 0.998706160991961, 0.9971702277410486, 0.9991031375792006, 0.999798698356051, 0.9997599504519408, 0.9978048414642132, 0.9987852740150673, 0.9984073573503441, 0.998366545507529, 0.996916344525669, 0.9999067976809314, 0.9986867240424636, 0.9992280260246006, 0.9960360560879451, 0.9965263208873648, 0.9983765640027904, 0.9993676628447473, 0.9984986699382614, 0.9982148465447226, 0.9998222129784257, 0.9992560680334205], \"Term\": [\"&\", \"-\", \"@\", \"GTsc\", \"GTsc\", \"I\", \"II\", \"If\", \"In\", \"InnovtIon\", \"Intern\", \"InternshIp\", \"Is\", \"It\", \"It's\", \"Its\", \"MIcrosoft\", \"MS\", \"MS\", \"MSFT\", \"MSFT\", \"MSFT\", \"Mnger\", \"Most\", \"MrketIng\", \"My\", \"NIce\", \"Not\", \"Softwre\", \"You\", \"bIg\", \"bd\", \"be\", \"been\", \"benefIts\", \"best\", \"better\", \"blnce\", \"busIness\", \"but\", \"by\", \"ccount\", \"chllengIng\", \"chnce\", \"chngIng\", \"cloud\", \"cn\", \"college\", \"competItIve\", \"compnIes\", \"compny\", \"compny,\", \"compny.\", \"could\", \"creer\", \"creer.\", \"culture\", \"customer\", \"dIrector\", \"decent\", \"defInItely\", \"depends\", \"developer\", \"development\", \"do\", \"don't\", \"drem\", \"dvIsor\", \"employee\", \"employees\", \"employer\", \"engIneer\", \"engIneerIng\", \"envIronment\", \"envIronment,\", \"excItIng\", \"excellent\", \"executIve\", \"experIence\", \"f\", \"fntstIc\", \"for\", \"for,\", \"for.\", \"fr\", \"from\", \"full\", \"fun\", \"get\", \"gettIng\", \"good\", \"good,\", \"gret\", \"group\", \"growth\", \"hIgh\", \"hours\", \"hrd\", \"hs\", \"hve\", \"job\", \"just\", \"lIfe\", \"lIke\", \"led\", \"ledershIp\", \"lern\", \"lernIng\", \"long\", \"lot\", \"lots\", \"love\", \"mIcrosoft\", \"mIcrosoft\", \"mIcrosoft\", \"mke\", \"mngement\", \"mnger\", \"mngers\", \"mny\", \"more\", \"much\", \"my\", \"mzIng\", \"n\", \"nd\", \"needs\", \"new\", \"no\", \"not\", \"now\", \"of\", \"ok\", \"on\", \"once\", \"one\", \"opportunItIes\", \"opportunIty\", \"or\", \"out\", \"over\", \"overll\", \"people\", \"people,\", \"plce\", \"polItIcl\", \"polItIcs\", \"poor\", \"process\", \"product\", \"progrm\", \"prtner\", \"py\", \"rIght\", \"rchItect\", \"re\", \"reserch\", \"revIew\", \"rewrdIng\", \"s\", \"sde\", \"senIor\", \"servIces\", \"sles\", \"smrt\", \"so\", \"softwre\", \"solutIon\", \"solutIons\", \"some\", \"specIlIst\", \"stIll\", \"stble\", \"strted\", \"t\", \"technIcl\", \"technology\", \"tem\", \"terrIble\", \"test\", \"thIngs\", \"thIs\", \"the\", \"there\", \"they\", \"thn\", \"tht\", \"to\", \"too\", \"up\", \"used\", \"very\", \"wIth\", \"well\", \"wesome\", \"where\", \"wht\", \"wnt\", \"work\", \"work,\", \"workIng\", \"worked\", \"world\", \"would\", \"ws\", \"wy\", \"yers\", \"you\", \"your\"]}, \"R\": 20, \"lambda.step\": 0.01, \"plot.opts\": {\"xlab\": \"PC1\", \"ylab\": \"PC2\"}, \"topic.order\": [4, 6, 10, 8, 2, 3, 9, 1, 5, 7]};\n",
       "\n",
       "function LDAvis_load_lib(url, callback){\n",
       "  var s = document.createElement('script');\n",
       "  s.src = url;\n",
       "  s.async = true;\n",
       "  s.onreadystatechange = s.onload = callback;\n",
       "  s.onerror = function(){console.warn(\"failed to load library \" + url);};\n",
       "  document.getElementsByTagName(\"head\")[0].appendChild(s);\n",
       "}\n",
       "\n",
       "if(typeof(LDAvis) !== \"undefined\"){\n",
       "   // already loaded: just create the visualization\n",
       "   !function(LDAvis){\n",
       "       new LDAvis(\"#\" + \"ldavis_el1030822465322307209419101196\", ldavis_el1030822465322307209419101196_data);\n",
       "   }(LDAvis);\n",
       "}else if(typeof define === \"function\" && define.amd){\n",
       "   // require.js is available: use it to load d3/LDAvis\n",
       "   require.config({paths: {d3: \"https://d3js.org/d3.v5\"}});\n",
       "   require([\"d3\"], function(d3){\n",
       "      window.d3 = d3;\n",
       "      LDAvis_load_lib(\"https://cdn.jsdelivr.net/gh/bmabey/pyLDAvis@3.3.1/pyLDAvis/js/ldavis.v3.0.0.js\", function(){\n",
       "        new LDAvis(\"#\" + \"ldavis_el1030822465322307209419101196\", ldavis_el1030822465322307209419101196_data);\n",
       "      });\n",
       "    });\n",
       "}else{\n",
       "    // require.js not available: dynamically load d3 & LDAvis\n",
       "    LDAvis_load_lib(\"https://d3js.org/d3.v5.js\", function(){\n",
       "         LDAvis_load_lib(\"https://cdn.jsdelivr.net/gh/bmabey/pyLDAvis@3.3.1/pyLDAvis/js/ldavis.v3.0.0.js\", function(){\n",
       "                 new LDAvis(\"#\" + \"ldavis_el1030822465322307209419101196\", ldavis_el1030822465322307209419101196_data);\n",
       "            })\n",
       "         });\n",
       "}\n",
       "</script>"
      ],
      "text/plain": [
       "PreparedData(topic_coordinates=              x         y  topics  cluster       Freq\n",
       "topic                                                \n",
       "3      0.410633  0.252077       1        1  26.864949\n",
       "5      0.117954  0.420234       2        1  11.841333\n",
       "9     -0.344367 -0.268821       3        1  10.816773\n",
       "7     -0.244010  0.400527       4        1   9.390740\n",
       "1      0.192171 -0.422950       5        1   8.653118\n",
       "2     -0.164120  0.148838       6        1   7.727310\n",
       "8     -0.090302 -0.377564       7        1   7.353770\n",
       "0     -0.449942  0.018721       8        1   7.163423\n",
       "4      0.158490 -0.042674       9        1   5.625598\n",
       "6      0.413492 -0.128388      10        1   4.562986, topic_info=          Term          Freq         Total Category  logprob  loglift\n",
       "1       compny   8501.000000   8501.000000  Default  20.0000  20.0000\n",
       "74        good   9061.000000   9061.000000  Default  19.0000  19.0000\n",
       "3           to  14354.000000  14354.000000  Default  18.0000  18.0000\n",
       "20        gret  12652.000000  12652.000000  Default  17.0000  17.0000\n",
       "21          nd   6888.000000   6888.000000  Default  16.0000  16.0000\n",
       "...        ...           ...           ...      ...      ...      ...\n",
       "121      hours    158.443139    159.233658  Topic10  -4.4341   3.0822\n",
       "30        drem    153.269428    154.060073  Topic10  -4.4673   3.0820\n",
       "907   terrIble    144.027224    144.817596  Topic10  -4.5295   3.0817\n",
       "368    process    142.407879    143.198247  Topic10  -4.5408   3.0817\n",
       "1034   chngIng    131.896693    132.687060  Topic10  -4.6175   3.0812\n",
       "\n",
       "[223 rows x 6 columns], token_table=       Topic      Freq  Term\n",
       "term                        \n",
       "323        8  0.997085     &\n",
       "169        8  0.999102     -\n",
       "1434       9  0.991295     @\n",
       "17068      4  0.994503  GTsc\n",
       "17068      8  0.003870  GTsc\n",
       "...      ...       ...   ...\n",
       "248        7  0.999368    ws\n",
       "836        4  0.998499    wy\n",
       "992        4  0.998215  yers\n",
       "102        6  0.999822   you\n",
       "461        1  0.999256  your\n",
       "\n",
       "[209 rows x 3 columns], R=20, lambda_step=0.01, plot_opts={'xlab': 'PC1', 'ylab': 'PC2'}, topic_order=[4, 6, 10, 8, 2, 3, 9, 1, 5, 7])"
      ]
     },
     "execution_count": 169,
     "metadata": {},
     "output_type": "execute_result"
    }
   ],
   "source": [
    "pyLDAvis.enable_notebook()\n",
    "vis = pyLDAvis.gensim_models.prepare(lda_model,corpus,id2word,mds=\"mmds\",R=20)\n",
    "vis"
   ]
  },
  {
   "cell_type": "code",
   "execution_count": 96,
   "id": "d413fe40",
   "metadata": {},
   "outputs": [],
   "source": [
    "# If you wiil notice in the topic modeling we have a lot of single word and that is not adding any to value to the data, So I am going to remove all the single and double words text from the data. "
   ]
  },
  {
   "cell_type": "markdown",
   "id": "3301b53e",
   "metadata": {},
   "source": [
    "# Cleaning Text Data Part-3"
   ]
  },
  {
   "cell_type": "code",
   "execution_count": 170,
   "id": "ac788df3",
   "metadata": {},
   "outputs": [],
   "source": [
    "def remove_words(text):\n",
    "    final_words = []\n",
    "    for word in text:\n",
    "        if len(word) > 2:\n",
    "            final_words.append(word)\n",
    "    return final_words"
   ]
  },
  {
   "cell_type": "code",
   "execution_count": 171,
   "id": "fc97d535",
   "metadata": {},
   "outputs": [],
   "source": [
    "data['clean_2'] = data['clean_2'].apply(remove_words)"
   ]
  },
  {
   "cell_type": "markdown",
   "id": "b3bc7d7e",
   "metadata": {},
   "source": [
    "# After removing the single and double words from the data"
   ]
  },
  {
   "cell_type": "code",
   "execution_count": 172,
   "id": "03631433",
   "metadata": {},
   "outputs": [],
   "source": [
    "#Top 20 Topics for Former Employees"
   ]
  },
  {
   "cell_type": "code",
   "execution_count": 173,
   "id": "f8bd7f03",
   "metadata": {},
   "outputs": [],
   "source": [
    "#Top 20 Topics for Current Employees"
   ]
  },
  {
   "cell_type": "markdown",
   "id": "783c7ec4",
   "metadata": {},
   "source": [
    "# Sentiment analysis using NLTK's VADER"
   ]
  },
  {
   "cell_type": "code",
   "execution_count": 174,
   "id": "570117f1",
   "metadata": {},
   "outputs": [],
   "source": [
    "#Extracting Negative, Neutral, Positive and Compound Score"
   ]
  },
  {
   "cell_type": "code",
   "execution_count": 175,
   "id": "409385ae",
   "metadata": {},
   "outputs": [],
   "source": [
    "import nltk"
   ]
  },
  {
   "cell_type": "code",
   "execution_count": 176,
   "id": "cbc14fa3",
   "metadata": {},
   "outputs": [],
   "source": [
    "from nltk.sentiment.vader import SentimentIntensityAnalyzer"
   ]
  },
  {
   "cell_type": "code",
   "execution_count": 177,
   "id": "fbed2576",
   "metadata": {},
   "outputs": [],
   "source": [
    "sia = SentimentIntensityAnalyzer()"
   ]
  },
  {
   "cell_type": "code",
   "execution_count": 189,
   "id": "6561673b",
   "metadata": {},
   "outputs": [],
   "source": [
    "data['clean_2'] = data['review_text'].apply(clean_round_2)\n"
   ]
  },
  {
   "cell_type": "code",
   "execution_count": 190,
   "id": "d85a5a95",
   "metadata": {},
   "outputs": [
    {
     "data": {
      "text/plain": [
       "0                              best  compny  to  work  for\n",
       "1        MovIng  t  the  speed  of  lIght,  burn  out  ...\n",
       "2        gret  blnce  between  bIg-compny  securIty  nd...\n",
       "3        the  best  plce  I've  worked  nd  lso  the  m...\n",
       "4                      unIque,  one  of    kInd  drem  job\n",
       "                               ...                        \n",
       "67524    enrIchIng  experIence  for    begInner  but  b...\n",
       "67525                 complex  nd  InterestIng  experIence\n",
       "67526                                 good  plce  to  work\n",
       "67527    It's    competItIve  work  plce,  wIth  overlo...\n",
       "67528                                   used  to  be  gret\n",
       "Name: clean_2, Length: 67529, dtype: object"
      ]
     },
     "execution_count": 190,
     "metadata": {},
     "output_type": "execute_result"
    }
   ],
   "source": [
    "data['clean_2']"
   ]
  },
  {
   "cell_type": "code",
   "execution_count": 191,
   "id": "f8c02b1d",
   "metadata": {},
   "outputs": [],
   "source": [
    "data['scores'] = data['clean_2'].apply(lambda review: sia.polarity_scores(review))"
   ]
  },
  {
   "cell_type": "code",
   "execution_count": 192,
   "id": "0c17d053",
   "metadata": {},
   "outputs": [
    {
     "name": "stdout",
     "output_type": "stream",
     "text": [
      "{'neg': 0.0, 'neu': 0.488, 'pos': 0.512, 'compound': 0.6369}\n",
      "{'neg': 0.0, 'neu': 1.0, 'pos': 0.0, 'compound': 0.0}\n",
      "{'neg': 0.0, 'neu': 0.551, 'pos': 0.449, 'compound': 0.6908}\n"
     ]
    }
   ],
   "source": [
    "print(data['scores'][0])\n",
    "print(data['scores'][1])\n",
    "print(data['scores'][2])"
   ]
  },
  {
   "cell_type": "code",
   "execution_count": 193,
   "id": "7f06440f",
   "metadata": {},
   "outputs": [],
   "source": [
    "data['compound'] = data['scores'].apply(lambda score: score['compound'])"
   ]
  },
  {
   "cell_type": "markdown",
   "id": "38214a97",
   "metadata": {},
   "source": [
    "# Extracting Compound score"
   ]
  },
  {
   "cell_type": "code",
   "execution_count": 194,
   "id": "bcc9ef14",
   "metadata": {},
   "outputs": [],
   "source": [
    "data['compound'] = data['scores'].apply(lambda score: score['compound'])"
   ]
  },
  {
   "cell_type": "code",
   "execution_count": 195,
   "id": "d4b51e11",
   "metadata": {},
   "outputs": [
    {
     "data": {
      "text/plain": [
       "0    0.6369\n",
       "1    0.0000\n",
       "2    0.6908\n",
       "3    0.6369\n",
       "4    0.5267\n",
       "5    0.0000\n",
       "6    0.0000\n",
       "7    0.4215\n",
       "8    0.0000\n",
       "9    0.0000\n",
       "Name: compound, dtype: float64"
      ]
     },
     "execution_count": 195,
     "metadata": {},
     "output_type": "execute_result"
    }
   ],
   "source": [
    "data['compound'][0:10]"
   ]
  },
  {
   "cell_type": "markdown",
   "id": "fb74facf",
   "metadata": {},
   "source": [
    "# Cleaning label columns using simple function "
   ]
  },
  {
   "cell_type": "code",
   "execution_count": 197,
   "id": "97aaa222",
   "metadata": {},
   "outputs": [],
   "source": [
    "def labels(score):\n",
    "    if score<3:\n",
    "        return 'neg'\n",
    "    elif score >3:\n",
    "        return 'pos'\n",
    "    else:\n",
    "        return 'neu'"
   ]
  },
  {
   "cell_type": "code",
   "execution_count": 198,
   "id": "97c35190",
   "metadata": {},
   "outputs": [],
   "source": [
    "data['label'] = data['rating'].apply(labels)"
   ]
  },
  {
   "cell_type": "code",
   "execution_count": 199,
   "id": "a89f2268",
   "metadata": {},
   "outputs": [
    {
     "data": {
      "text/plain": [
       "0    pos\n",
       "1    pos\n",
       "2    pos\n",
       "3    pos\n",
       "4    pos\n",
       "5    pos\n",
       "6    pos\n",
       "7    pos\n",
       "8    pos\n",
       "9    pos\n",
       "Name: label, dtype: object"
      ]
     },
     "execution_count": 199,
     "metadata": {},
     "output_type": "execute_result"
    }
   ],
   "source": [
    "data['label'][0:10]"
   ]
  },
  {
   "cell_type": "markdown",
   "id": "a5c8b922",
   "metadata": {},
   "source": [
    "# Creating Negative,Neutral and Positive from the compound column"
   ]
  },
  {
   "cell_type": "code",
   "execution_count": 200,
   "id": "a2626825",
   "metadata": {},
   "outputs": [],
   "source": [
    "def compound_score(score):\n",
    "    if score<0:\n",
    "        return 'neg'\n",
    "    elif score > 0:\n",
    "        return 'pos'\n",
    "    else:\n",
    "        return 'neu'"
   ]
  },
  {
   "cell_type": "code",
   "execution_count": 201,
   "id": "14e4143e",
   "metadata": {},
   "outputs": [],
   "source": [
    "data['compound_score'] = data['compound'].apply(compound_score)"
   ]
  },
  {
   "cell_type": "code",
   "execution_count": 202,
   "id": "b0d38fd6",
   "metadata": {},
   "outputs": [
    {
     "data": {
      "text/plain": [
       "0    pos\n",
       "1    neu\n",
       "2    pos\n",
       "3    pos\n",
       "4    pos\n",
       "5    neu\n",
       "6    neu\n",
       "7    pos\n",
       "8    neu\n",
       "9    neu\n",
       "Name: compound_score, dtype: object"
      ]
     },
     "execution_count": 202,
     "metadata": {},
     "output_type": "execute_result"
    }
   ],
   "source": [
    "data['compound_score'][0:10]"
   ]
  },
  {
   "cell_type": "markdown",
   "id": "06ad88a5",
   "metadata": {},
   "source": [
    "# Quick comparison between original label vs. compound label"
   ]
  },
  {
   "cell_type": "code",
   "execution_count": 203,
   "id": "9979dc7b",
   "metadata": {},
   "outputs": [
    {
     "data": {
      "image/png": "[encoded data removed]",
      "text/plain": [
       "<Figure size 432x288 with 1 Axes>"
      ]
     },
     "metadata": {
      "needs_background": "light"
     },
     "output_type": "display_data"
    }
   ],
   "source": [
    "sns.histplot(x='compound',data=data,bins=15,hue='label');"
   ]
  },
  {
   "cell_type": "code",
   "execution_count": 204,
   "id": "6963f34b",
   "metadata": {},
   "outputs": [
    {
     "data": {
      "image/png": "[encoded data removed]",
      "text/plain": [
       "<Figure size 720x288 with 2 Axes>"
      ]
     },
     "metadata": {
      "needs_background": "light"
     },
     "output_type": "display_data"
    }
   ],
   "source": [
    "fig, ax = plt.subplots(1,2, figsize=(10,4))\n",
    "\n",
    "sns.countplot(data['label'],ax=ax[0])\n",
    "sns.countplot(data['compound_score'],ax=ax[1])\n",
    "fig.tight_layout()\n",
    "fig.show()"
   ]
  },
  {
   "cell_type": "code",
   "execution_count": 205,
   "id": "bb681ca7",
   "metadata": {},
   "outputs": [],
   "source": [
    "from sklearn.metrics import accuracy_score, confusion_matrix, classification_report"
   ]
  },
  {
   "cell_type": "code",
   "execution_count": 206,
   "id": "dd4d2f99",
   "metadata": {},
   "outputs": [
    {
     "data": {
      "text/plain": [
       "0.3574168135171556"
      ]
     },
     "execution_count": 206,
     "metadata": {},
     "output_type": "execute_result"
    }
   ],
   "source": [
    "accuracy_score(data['label'],data['compound_score'])"
   ]
  },
  {
   "cell_type": "code",
   "execution_count": 207,
   "id": "62ed87b3",
   "metadata": {},
   "outputs": [
    {
     "name": "stdout",
     "output_type": "stream",
     "text": [
      "[[ 1905  5828  1455]\n",
      " [ 1084  8214  3355]\n",
      " [ 1115 30556 14017]]\n"
     ]
    }
   ],
   "source": [
    "print(confusion_matrix(data['label'],data['compound_score']))"
   ]
  },
  {
   "cell_type": "code",
   "execution_count": 208,
   "id": "c7e04039",
   "metadata": {},
   "outputs": [
    {
     "name": "stdout",
     "output_type": "stream",
     "text": [
      "              precision    recall  f1-score   support\n",
      "\n",
      "         neg       0.46      0.21      0.29      9188\n",
      "         neu       0.18      0.65      0.29     12653\n",
      "         pos       0.74      0.31      0.43     45688\n",
      "\n",
      "    accuracy                           0.36     67529\n",
      "   macro avg       0.46      0.39      0.34     67529\n",
      "weighted avg       0.60      0.36      0.39     67529\n",
      "\n"
     ]
    }
   ],
   "source": [
    "print(classification_report(data['label'],data['compound_score']))"
   ]
  },
  {
   "cell_type": "markdown",
   "id": "8d9480ef",
   "metadata": {},
   "source": [
    "# Applying machine learning model to predict ratings based on text data"
   ]
  },
  {
   "cell_type": "code",
   "execution_count": 209,
   "id": "0eebf579",
   "metadata": {},
   "outputs": [],
   "source": [
    "X_train = data.loc[:9100, 'clean_2'].values\n",
    "y_train = data.loc[:9100,'rating'].values\n",
    "X_test = data.loc[:9101, 'clean_2'].values\n",
    "y_test = data.loc[:9101,'rating'].values"
   ]
  },
  {
   "cell_type": "code",
   "execution_count": 211,
   "id": "61930a72",
   "metadata": {},
   "outputs": [],
   "source": [
    "from sklearn.feature_extraction.text import TfidfVectorizer"
   ]
  },
  {
   "cell_type": "code",
   "execution_count": 213,
   "id": "9494df8b",
   "metadata": {},
   "outputs": [],
   "source": [
    "vectorizer = TfidfVectorizer()"
   ]
  },
  {
   "cell_type": "code",
   "execution_count": 214,
   "id": "aea22ed1",
   "metadata": {},
   "outputs": [],
   "source": [
    "train_vectors = vectorizer.fit_transform(X_train)\n",
    "test_vectors = vectorizer.transform(X_test)"
   ]
  },
  {
   "cell_type": "code",
   "execution_count": 215,
   "id": "d31b62d1",
   "metadata": {},
   "outputs": [
    {
     "name": "stdout",
     "output_type": "stream",
     "text": [
      "(9101, 3322) (9102, 3322)\n"
     ]
    }
   ],
   "source": [
    "print(train_vectors.shape,test_vectors.shape)"
   ]
  },
  {
   "cell_type": "markdown",
   "id": "73b91c94",
   "metadata": {},
   "source": [
    "# Applying multinominal Naive Bayes algorithm"
   ]
  },
  {
   "cell_type": "code",
   "execution_count": 216,
   "id": "50049ced",
   "metadata": {},
   "outputs": [],
   "source": [
    "from sklearn.naive_bayes import MultinomialNB"
   ]
  },
  {
   "cell_type": "code",
   "execution_count": 217,
   "id": "c87d529b",
   "metadata": {},
   "outputs": [],
   "source": [
    "clf = MultinomialNB()"
   ]
  },
  {
   "cell_type": "code",
   "execution_count": 218,
   "id": "5cf8cf55",
   "metadata": {},
   "outputs": [
    {
     "data": {
      "text/plain": [
       "MultinomialNB()"
      ]
     },
     "execution_count": 218,
     "metadata": {},
     "output_type": "execute_result"
    }
   ],
   "source": [
    "clf.fit(train_vectors,y_train)"
   ]
  },
  {
   "cell_type": "code",
   "execution_count": 219,
   "id": "4560d72c",
   "metadata": {},
   "outputs": [],
   "source": [
    "predicted = clf.predict(test_vectors)"
   ]
  },
  {
   "cell_type": "code",
   "execution_count": 220,
   "id": "990443c1",
   "metadata": {},
   "outputs": [
    {
     "data": {
      "text/plain": [
       "0.6219512195121951"
      ]
     },
     "execution_count": 220,
     "metadata": {},
     "output_type": "execute_result"
    }
   ],
   "source": [
    "accuracy_score(y_test,predicted)"
   ]
  },
  {
   "cell_type": "code",
   "execution_count": 142,
   "id": "1575a2a5",
   "metadata": {},
   "outputs": [],
   "source": [
    "# Conclusion:\n"
   ]
  },
  {
   "cell_type": "code",
   "execution_count": null,
   "id": "9d0088b8",
   "metadata": {},
   "outputs": [],
   "source": []
  }
 ],
 "metadata": {
  "kernelspec": {
   "display_name": "Python 3 (ipykernel)",
   "language": "python",
   "name": "python3"
  },
  "language_info": {
   "codemirror_mode": {
    "name": "ipython",
    "version": 3
   },
   "file_extension": ".py",
   "mimetype": "text/x-python",
   "name": "python",
   "nbconvert_exporter": "python",
   "pygments_lexer": "ipython3",
   "version": "3.9.7"
  }
 },
 "nbformat": 4,
 "nbformat_minor": 5
}
